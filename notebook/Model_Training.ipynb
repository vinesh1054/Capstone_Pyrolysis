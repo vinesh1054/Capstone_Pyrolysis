{
 "cells": [
  {
   "cell_type": "code",
   "execution_count": 1,
   "metadata": {},
   "outputs": [],
   "source": [
    "# Basic Import\n",
    "import numpy as np\n",
    "import pandas as pd\n",
    "import matplotlib.pyplot as plt \n",
    "import seaborn as sns\n",
    "# Modelling\n",
    "from sklearn.metrics import mean_squared_error, r2_score\n",
    "from sklearn.neighbors import KNeighborsRegressor\n",
    "from sklearn.tree import DecisionTreeRegressor\n",
    "from sklearn.ensemble import RandomForestRegressor,AdaBoostRegressor\n",
    "from sklearn.svm import SVR\n",
    "from sklearn.linear_model import LinearRegression, Ridge,Lasso\n",
    "from sklearn.metrics import r2_score, mean_absolute_error, mean_squared_error\n",
    "from sklearn.model_selection import RandomizedSearchCV\n",
    "from xgboost import XGBRegressor\n",
    "from catboost import CatBoostRegressor\n",
    "import warnings"
   ]
  },
  {
   "cell_type": "code",
   "execution_count": 2,
   "metadata": {},
   "outputs": [],
   "source": [
    "df = pd.read_csv('data/pyrolysis.csv')"
   ]
  },
  {
   "cell_type": "code",
   "execution_count": 3,
   "metadata": {},
   "outputs": [
    {
     "data": {
      "text/html": [
       "<div>\n",
       "<style scoped>\n",
       "    .dataframe tbody tr th:only-of-type {\n",
       "        vertical-align: middle;\n",
       "    }\n",
       "\n",
       "    .dataframe tbody tr th {\n",
       "        vertical-align: top;\n",
       "    }\n",
       "\n",
       "    .dataframe thead th {\n",
       "        text-align: right;\n",
       "    }\n",
       "</style>\n",
       "<table border=\"1\" class=\"dataframe\">\n",
       "  <thead>\n",
       "    <tr style=\"text-align: right;\">\n",
       "      <th></th>\n",
       "      <th>Index</th>\n",
       "      <th>Biomass species</th>\n",
       "      <th>M</th>\n",
       "      <th>Ash</th>\n",
       "      <th>VM</th>\n",
       "      <th>FC</th>\n",
       "      <th>C</th>\n",
       "      <th>H</th>\n",
       "      <th>O</th>\n",
       "      <th>N</th>\n",
       "      <th>PS</th>\n",
       "      <th>FT</th>\n",
       "      <th>HR</th>\n",
       "      <th>FR</th>\n",
       "      <th>Solid phase</th>\n",
       "      <th>Liquid phase</th>\n",
       "      <th>Gas phase</th>\n",
       "    </tr>\n",
       "  </thead>\n",
       "  <tbody>\n",
       "    <tr>\n",
       "      <th>0</th>\n",
       "      <td>1</td>\n",
       "      <td>Jerusalem artichoke stick</td>\n",
       "      <td>15.76</td>\n",
       "      <td>3.34</td>\n",
       "      <td>67.40</td>\n",
       "      <td>13.50</td>\n",
       "      <td>45.36</td>\n",
       "      <td>6.11</td>\n",
       "      <td>47.26</td>\n",
       "      <td>0.75</td>\n",
       "      <td>0.5</td>\n",
       "      <td>550</td>\n",
       "      <td>10.0</td>\n",
       "      <td>100.0</td>\n",
       "      <td>35</td>\n",
       "      <td>44.9</td>\n",
       "      <td>20.1</td>\n",
       "    </tr>\n",
       "    <tr>\n",
       "      <th>1</th>\n",
       "      <td>2</td>\n",
       "      <td>Jerusalem artichoke stick</td>\n",
       "      <td>15.76</td>\n",
       "      <td>3.34</td>\n",
       "      <td>67.40</td>\n",
       "      <td>13.50</td>\n",
       "      <td>45.36</td>\n",
       "      <td>6.11</td>\n",
       "      <td>47.26</td>\n",
       "      <td>0.75</td>\n",
       "      <td>0.5</td>\n",
       "      <td>650</td>\n",
       "      <td>10.0</td>\n",
       "      <td>100.0</td>\n",
       "      <td>31.75</td>\n",
       "      <td>41.25</td>\n",
       "      <td>27</td>\n",
       "    </tr>\n",
       "    <tr>\n",
       "      <th>2</th>\n",
       "      <td>3</td>\n",
       "      <td>Jerusalem artichoke stick</td>\n",
       "      <td>15.76</td>\n",
       "      <td>3.34</td>\n",
       "      <td>67.40</td>\n",
       "      <td>13.50</td>\n",
       "      <td>45.36</td>\n",
       "      <td>6.11</td>\n",
       "      <td>47.26</td>\n",
       "      <td>0.75</td>\n",
       "      <td>0.5</td>\n",
       "      <td>750</td>\n",
       "      <td>10.0</td>\n",
       "      <td>100.0</td>\n",
       "      <td>30.2</td>\n",
       "      <td>40.6</td>\n",
       "      <td>29.2</td>\n",
       "    </tr>\n",
       "    <tr>\n",
       "      <th>3</th>\n",
       "      <td>4</td>\n",
       "      <td>Jerusalem artichoke stick</td>\n",
       "      <td>15.76</td>\n",
       "      <td>3.34</td>\n",
       "      <td>67.40</td>\n",
       "      <td>13.50</td>\n",
       "      <td>45.36</td>\n",
       "      <td>6.11</td>\n",
       "      <td>47.26</td>\n",
       "      <td>0.75</td>\n",
       "      <td>0.5</td>\n",
       "      <td>850</td>\n",
       "      <td>10.0</td>\n",
       "      <td>100.0</td>\n",
       "      <td>28.6</td>\n",
       "      <td>36.36</td>\n",
       "      <td>35.04</td>\n",
       "    </tr>\n",
       "    <tr>\n",
       "      <th>4</th>\n",
       "      <td>5</td>\n",
       "      <td>reed</td>\n",
       "      <td>5.89</td>\n",
       "      <td>8.47</td>\n",
       "      <td>72.12</td>\n",
       "      <td>13.52</td>\n",
       "      <td>42.78</td>\n",
       "      <td>5.17</td>\n",
       "      <td>50.51</td>\n",
       "      <td>1.33</td>\n",
       "      <td>0.5</td>\n",
       "      <td>550</td>\n",
       "      <td>10.0</td>\n",
       "      <td>100.0</td>\n",
       "      <td>32.85</td>\n",
       "      <td>54.38</td>\n",
       "      <td>12.77</td>\n",
       "    </tr>\n",
       "  </tbody>\n",
       "</table>\n",
       "</div>"
      ],
      "text/plain": [
       "   Index            Biomass species      M  Ash      VM     FC      C     H  \\\n",
       "0      1  Jerusalem artichoke stick  15.76  3.34  67.40  13.50  45.36  6.11   \n",
       "1      2  Jerusalem artichoke stick  15.76  3.34  67.40  13.50  45.36  6.11   \n",
       "2      3  Jerusalem artichoke stick  15.76  3.34  67.40  13.50  45.36  6.11   \n",
       "3      4  Jerusalem artichoke stick  15.76  3.34  67.40  13.50  45.36  6.11   \n",
       "4      5                       reed   5.89  8.47  72.12  13.52  42.78  5.17   \n",
       "\n",
       "       O     N   PS   FT    HR     FR Solid phase Liquid phase Gas phase  \n",
       "0  47.26  0.75  0.5  550  10.0  100.0          35         44.9      20.1  \n",
       "1  47.26  0.75  0.5  650  10.0  100.0       31.75        41.25        27  \n",
       "2  47.26  0.75  0.5  750  10.0  100.0        30.2         40.6      29.2  \n",
       "3  47.26  0.75  0.5  850  10.0  100.0        28.6        36.36     35.04  \n",
       "4  50.51  1.33  0.5  550  10.0  100.0       32.85        54.38     12.77  "
      ]
     },
     "execution_count": 3,
     "metadata": {},
     "output_type": "execute_result"
    }
   ],
   "source": [
    "df.head()"
   ]
  },
  {
   "cell_type": "code",
   "execution_count": 4,
   "metadata": {},
   "outputs": [],
   "source": [
    "df[\"PS\"] = pd.to_numeric(df[\"PS\"], errors=\"coerce\")"
   ]
  },
  {
   "cell_type": "code",
   "execution_count": 5,
   "metadata": {},
   "outputs": [
    {
     "name": "stdout",
     "output_type": "stream",
     "text": [
      "Missing values after imputation:\n",
      " Index              0\n",
      "Biomass species    0\n",
      "M                  0\n",
      "Ash                0\n",
      "VM                 0\n",
      "FC                 0\n",
      "C                  0\n",
      "H                  0\n",
      "O                  0\n",
      "N                  0\n",
      "PS                 0\n",
      "FT                 0\n",
      "HR                 0\n",
      "FR                 0\n",
      "Solid phase        0\n",
      "Liquid phase       0\n",
      "Gas phase          0\n",
      "dtype: int64\n"
     ]
    }
   ],
   "source": [
    "from sklearn.impute import SimpleImputer\n",
    "\n",
    "# Identify numerical and categorical columns\n",
    "num_features = df.select_dtypes(exclude=\"object\").columns\n",
    "cat_features = df.select_dtypes(include=\"object\").columns\n",
    "\n",
    "# Create Imputers\n",
    "num_imputer = SimpleImputer(strategy=\"median\")  # Median for numerical\n",
    "cat_imputer = SimpleImputer(strategy=\"most_frequent\")  # Most frequent for categorical\n",
    "\n",
    "# Apply Imputers\n",
    "df[num_features] = num_imputer.fit_transform(df[num_features])  # Transform numerical columns\n",
    "df[cat_features] = cat_imputer.fit_transform(df[cat_features])  # Transform categorical columns\n",
    "\n",
    "# Print to check if nulls are removed\n",
    "print(\"Missing values after imputation:\\n\", df.isna().sum())\n"
   ]
  },
  {
   "cell_type": "code",
   "execution_count": 6,
   "metadata": {},
   "outputs": [],
   "source": [
    "X = df.drop(columns=['Solid phase','Liquid phase', 'Gas phase','Index'],axis=1) "
   ]
  },
  {
   "cell_type": "code",
   "execution_count": 7,
   "metadata": {},
   "outputs": [
    {
     "data": {
      "text/html": [
       "<div>\n",
       "<style scoped>\n",
       "    .dataframe tbody tr th:only-of-type {\n",
       "        vertical-align: middle;\n",
       "    }\n",
       "\n",
       "    .dataframe tbody tr th {\n",
       "        vertical-align: top;\n",
       "    }\n",
       "\n",
       "    .dataframe thead th {\n",
       "        text-align: right;\n",
       "    }\n",
       "</style>\n",
       "<table border=\"1\" class=\"dataframe\">\n",
       "  <thead>\n",
       "    <tr style=\"text-align: right;\">\n",
       "      <th></th>\n",
       "      <th>Biomass species</th>\n",
       "      <th>M</th>\n",
       "      <th>Ash</th>\n",
       "      <th>VM</th>\n",
       "      <th>FC</th>\n",
       "      <th>C</th>\n",
       "      <th>H</th>\n",
       "      <th>O</th>\n",
       "      <th>N</th>\n",
       "      <th>PS</th>\n",
       "      <th>FT</th>\n",
       "      <th>HR</th>\n",
       "      <th>FR</th>\n",
       "    </tr>\n",
       "  </thead>\n",
       "  <tbody>\n",
       "    <tr>\n",
       "      <th>0</th>\n",
       "      <td>Jerusalem artichoke stick</td>\n",
       "      <td>15.76</td>\n",
       "      <td>3.34</td>\n",
       "      <td>67.40</td>\n",
       "      <td>13.50</td>\n",
       "      <td>45.36</td>\n",
       "      <td>6.11</td>\n",
       "      <td>47.26</td>\n",
       "      <td>0.75</td>\n",
       "      <td>0.5</td>\n",
       "      <td>550.0</td>\n",
       "      <td>10.0</td>\n",
       "      <td>100.0</td>\n",
       "    </tr>\n",
       "    <tr>\n",
       "      <th>1</th>\n",
       "      <td>Jerusalem artichoke stick</td>\n",
       "      <td>15.76</td>\n",
       "      <td>3.34</td>\n",
       "      <td>67.40</td>\n",
       "      <td>13.50</td>\n",
       "      <td>45.36</td>\n",
       "      <td>6.11</td>\n",
       "      <td>47.26</td>\n",
       "      <td>0.75</td>\n",
       "      <td>0.5</td>\n",
       "      <td>650.0</td>\n",
       "      <td>10.0</td>\n",
       "      <td>100.0</td>\n",
       "    </tr>\n",
       "    <tr>\n",
       "      <th>2</th>\n",
       "      <td>Jerusalem artichoke stick</td>\n",
       "      <td>15.76</td>\n",
       "      <td>3.34</td>\n",
       "      <td>67.40</td>\n",
       "      <td>13.50</td>\n",
       "      <td>45.36</td>\n",
       "      <td>6.11</td>\n",
       "      <td>47.26</td>\n",
       "      <td>0.75</td>\n",
       "      <td>0.5</td>\n",
       "      <td>750.0</td>\n",
       "      <td>10.0</td>\n",
       "      <td>100.0</td>\n",
       "    </tr>\n",
       "    <tr>\n",
       "      <th>3</th>\n",
       "      <td>Jerusalem artichoke stick</td>\n",
       "      <td>15.76</td>\n",
       "      <td>3.34</td>\n",
       "      <td>67.40</td>\n",
       "      <td>13.50</td>\n",
       "      <td>45.36</td>\n",
       "      <td>6.11</td>\n",
       "      <td>47.26</td>\n",
       "      <td>0.75</td>\n",
       "      <td>0.5</td>\n",
       "      <td>850.0</td>\n",
       "      <td>10.0</td>\n",
       "      <td>100.0</td>\n",
       "    </tr>\n",
       "    <tr>\n",
       "      <th>4</th>\n",
       "      <td>reed</td>\n",
       "      <td>5.89</td>\n",
       "      <td>8.47</td>\n",
       "      <td>72.12</td>\n",
       "      <td>13.52</td>\n",
       "      <td>42.78</td>\n",
       "      <td>5.17</td>\n",
       "      <td>50.51</td>\n",
       "      <td>1.33</td>\n",
       "      <td>0.5</td>\n",
       "      <td>550.0</td>\n",
       "      <td>10.0</td>\n",
       "      <td>100.0</td>\n",
       "    </tr>\n",
       "  </tbody>\n",
       "</table>\n",
       "</div>"
      ],
      "text/plain": [
       "             Biomass species      M  Ash      VM     FC      C     H      O  \\\n",
       "0  Jerusalem artichoke stick  15.76  3.34  67.40  13.50  45.36  6.11  47.26   \n",
       "1  Jerusalem artichoke stick  15.76  3.34  67.40  13.50  45.36  6.11  47.26   \n",
       "2  Jerusalem artichoke stick  15.76  3.34  67.40  13.50  45.36  6.11  47.26   \n",
       "3  Jerusalem artichoke stick  15.76  3.34  67.40  13.50  45.36  6.11  47.26   \n",
       "4                       reed   5.89  8.47  72.12  13.52  42.78  5.17  50.51   \n",
       "\n",
       "      N   PS     FT    HR     FR  \n",
       "0  0.75  0.5  550.0  10.0  100.0  \n",
       "1  0.75  0.5  650.0  10.0  100.0  \n",
       "2  0.75  0.5  750.0  10.0  100.0  \n",
       "3  0.75  0.5  850.0  10.0  100.0  \n",
       "4  1.33  0.5  550.0  10.0  100.0  "
      ]
     },
     "execution_count": 7,
     "metadata": {},
     "output_type": "execute_result"
    }
   ],
   "source": [
    "X.head()"
   ]
  },
  {
   "cell_type": "code",
   "execution_count": 29,
   "metadata": {},
   "outputs": [
    {
     "data": {
      "text/plain": [
       "Biomass species    0\n",
       "M                  0\n",
       "Ash                0\n",
       "VM                 0\n",
       "FC                 0\n",
       "C                  0\n",
       "H                  0\n",
       "O                  0\n",
       "N                  0\n",
       "PS                 0\n",
       "FT                 0\n",
       "HR                 0\n",
       "FR                 0\n",
       "dtype: int64"
      ]
     },
     "execution_count": 29,
     "metadata": {},
     "output_type": "execute_result"
    }
   ],
   "source": [
    "X.isna().sum()"
   ]
  },
  {
   "cell_type": "code",
   "execution_count": 8,
   "metadata": {},
   "outputs": [],
   "source": [
    "y = df['Liquid phase'] #bio fuel"
   ]
  },
  {
   "cell_type": "code",
   "execution_count": 9,
   "metadata": {},
   "outputs": [
    {
     "data": {
      "text/plain": [
       "0       44.9\n",
       "1      41.25\n",
       "2       40.6\n",
       "3      36.36\n",
       "4      54.38\n",
       "       ...  \n",
       "746    50.23\n",
       "747    53.15\n",
       "748    55.32\n",
       "749    51.85\n",
       "750    50.51\n",
       "Name: Liquid phase, Length: 751, dtype: object"
      ]
     },
     "execution_count": 9,
     "metadata": {},
     "output_type": "execute_result"
    }
   ],
   "source": [
    "y"
   ]
  },
  {
   "cell_type": "code",
   "execution_count": 10,
   "metadata": {},
   "outputs": [
    {
     "data": {
      "text/plain": [
       "Biomass species     object\n",
       "M                  float64\n",
       "Ash                float64\n",
       "VM                 float64\n",
       "FC                 float64\n",
       "C                  float64\n",
       "H                  float64\n",
       "O                  float64\n",
       "N                  float64\n",
       "PS                 float64\n",
       "FT                 float64\n",
       "HR                 float64\n",
       "FR                 float64\n",
       "dtype: object"
      ]
     },
     "execution_count": 10,
     "metadata": {},
     "output_type": "execute_result"
    }
   ],
   "source": [
    "X.dtypes"
   ]
  },
  {
   "cell_type": "code",
   "execution_count": 11,
   "metadata": {},
   "outputs": [
    {
     "data": {
      "text/plain": [
       "Index(['Biomass species'], dtype='object')"
      ]
     },
     "execution_count": 11,
     "metadata": {},
     "output_type": "execute_result"
    }
   ],
   "source": [
    "X.select_dtypes(include=\"object\").columns"
   ]
  },
  {
   "cell_type": "code",
   "execution_count": 12,
   "metadata": {},
   "outputs": [],
   "source": [
    "# #Pipeline:\n",
    "# # Create Column Transformer with 3 types of transformers\n",
    "# num_features = X.select_dtypes(exclude=\"object\").columns ##all my numerical features\n",
    "# cat_features = X.select_dtypes(include=\"object\").columns\n",
    "\n",
    "# from sklearn.preprocessing import OneHotEncoder, StandardScaler\n",
    "# from sklearn.compose import ColumnTransformer\n",
    "\n",
    "# numeric_transformer = StandardScaler()\n",
    "# oh_transformer = OneHotEncoder()\n",
    "\n",
    "# preprocessor = ColumnTransformer(\n",
    "#     [\n",
    "#         (\"OneHotEncoder\", oh_transformer, cat_features), #OneHotEncoder for cat features\n",
    "#          (\"StandardScaler\", numeric_transformer, num_features),   #StandardScaler for cat features     \n",
    "#     ]\n",
    "# )"
   ]
  },
  {
   "cell_type": "code",
   "execution_count": 13,
   "metadata": {},
   "outputs": [],
   "source": [
    "# X = preprocessor.fit_transform(X)"
   ]
  },
  {
   "cell_type": "code",
   "execution_count": 14,
   "metadata": {},
   "outputs": [],
   "source": [
    "# X.shape"
   ]
  },
  {
   "cell_type": "code",
   "execution_count": 15,
   "metadata": {},
   "outputs": [],
   "source": [
    "# from sklearn.decomposition import PCA\n",
    "\n",
    "# # Apply PCA to reduce dimensions while keeping 95% of variance\n",
    "# pca = PCA(n_components=0.95)  # Keeps enough components to explain 95% variance\n"
   ]
  },
  {
   "cell_type": "code",
   "execution_count": 16,
   "metadata": {},
   "outputs": [],
   "source": [
    "# X.shape"
   ]
  },
  {
   "cell_type": "code",
   "execution_count": 17,
   "metadata": {},
   "outputs": [
    {
     "name": "stdout",
     "output_type": "stream",
     "text": [
      "Transformed Data Shape: (751, 17)\n"
     ]
    }
   ],
   "source": [
    "from sklearn.pipeline import Pipeline\n",
    "from sklearn.compose import ColumnTransformer\n",
    "from sklearn.preprocessing import OneHotEncoder, StandardScaler\n",
    "from sklearn.impute import SimpleImputer\n",
    "from sklearn.decomposition import PCA\n",
    "import pandas as pd\n",
    "\n",
    "# Load dataset\n",
    "# X = pd.read_csv(\"pyrolysis.csv\")  # Update path\n",
    "\n",
    "# Identify numerical & categorical features\n",
    "num_features = X.select_dtypes(exclude=\"object\").columns.tolist()\n",
    "cat_features = X.select_dtypes(include=\"object\").columns.tolist()\n",
    "\n",
    "# **Numerical Pipeline**\n",
    "num_pipeline = Pipeline([\n",
    "    # (\"imputer\", SimpleImputer(strategy=\"median\")),  # Fill missing values\n",
    "    (\"scaler\", StandardScaler())  # Standardize numerical data\n",
    "])\n",
    "\n",
    "# **Categorical Pipeline (OHE → PCA)**\n",
    "cat_pipeline = Pipeline([\n",
    "    (\"onehot\", OneHotEncoder(handle_unknown=\"ignore\", drop=\"first\", sparse_output=False)),# One-hot encode categorical data with dense output\n",
    "    (\"pca\", PCA(n_components=5))  # Reduce to 5 principal components\n",
    "])\n",
    "\n",
    "# **Combine Pipelines**\n",
    "preprocessor = ColumnTransformer([\n",
    "    (\"num\", num_pipeline, num_features),  # Apply num_pipeline to numerical features\n",
    "    (\"cat\", cat_pipeline, cat_features)   # Apply cat_pipeline to categorical features\n",
    "])\n",
    "\n",
    "# **Transform Data**\n",
    "X_transformed = preprocessor.fit_transform(X)\n",
    "\n",
    "# **Check Transformed Shape**\n",
    "print(\"Transformed Data Shape:\", X_transformed.shape)\n"
   ]
  },
  {
   "cell_type": "code",
   "execution_count": 33,
   "metadata": {},
   "outputs": [
    {
     "data": {
      "text/plain": [
       "(751, 17)"
      ]
     },
     "execution_count": 33,
     "metadata": {},
     "output_type": "execute_result"
    }
   ],
   "source": [
    "X_transformed.shape"
   ]
  },
  {
   "cell_type": "code",
   "execution_count": 38,
   "metadata": {},
   "outputs": [
    {
     "data": {
      "text/plain": [
       "((600, 17), (151, 17))"
      ]
     },
     "execution_count": 38,
     "metadata": {},
     "output_type": "execute_result"
    }
   ],
   "source": [
    "# separate dataset into train and test\n",
    "from sklearn.model_selection import train_test_split\n",
    "X_train, X_test, y_train, y_test = train_test_split(X_transformed,y,test_size=0.2,random_state=42)\n",
    "X_train.shape, X_test.shape"
   ]
  },
  {
   "cell_type": "code",
   "execution_count": 43,
   "metadata": {},
   "outputs": [
    {
     "name": "stdout",
     "output_type": "stream",
     "text": [
      "<class 'pandas.core.series.Series'>\n",
      "RangeIndex: 751 entries, 0 to 750\n",
      "Series name: Liquid phase\n",
      "Non-Null Count  Dtype \n",
      "--------------  ----- \n",
      "751 non-null    object\n",
      "dtypes: object(1)\n",
      "memory usage: 6.0+ KB\n"
     ]
    }
   ],
   "source": [
    "y.info()"
   ]
  },
  {
   "cell_type": "code",
   "execution_count": null,
   "metadata": {},
   "outputs": [
    {
     "name": "stdout",
     "output_type": "stream",
     "text": [
      "3 missing values in y_train\n",
      "0 missing values in y_test\n"
     ]
    }
   ],
   "source": [
    "# Convert y_train and y_test to float\n",
    "y_train = pd.to_numeric(y_train, errors=\"coerce\")\n",
    "y_test = pd.to_numeric(y_test, errors=\"coerce\")\n",
    "\n",
    "# Check if there are any NaN values after conversion\n",
    "print(y_train.isna().sum(), \"missing values in y_train\")\n",
    "print(y_test.isna().sum(), \"missing values in y_test\") \n",
    "\n",
    "#there might be some null values after conversion to numeric"
   ]
  },
  {
   "cell_type": "code",
   "execution_count": 46,
   "metadata": {},
   "outputs": [
    {
     "name": "stdout",
     "output_type": "stream",
     "text": [
      "0 missing values in y_train\n",
      "0 missing values in y_test\n"
     ]
    }
   ],
   "source": [
    "# Drop or fill NaNs if needed\n",
    "y_train = y_train.fillna(y_train.median())  # Replace NaNs with median\n",
    "# y_test = y_test.fillna(y_test.median())  # Replace NaNs with median\n",
    "print(y_train.isna().sum(), \"missing values in y_train\")\n",
    "print(y_test.isna().sum(), \"missing values in y_test\") "
   ]
  },
  {
   "cell_type": "code",
   "execution_count": 47,
   "metadata": {},
   "outputs": [],
   "source": [
    "def evaluate_model(true, predicted):\n",
    "    mae = mean_absolute_error(true, predicted)\n",
    "    mse = mean_squared_error(true, predicted)\n",
    "    rmse = np.sqrt(mean_squared_error(true, predicted))\n",
    "    r2_square = r2_score(true, predicted)\n",
    "    return mae, rmse, r2_square"
   ]
  },
  {
   "cell_type": "code",
   "execution_count": 52,
   "metadata": {},
   "outputs": [
    {
     "name": "stdout",
     "output_type": "stream",
     "text": [
      "Linear Regression\n",
      "Model performance for Training set\n",
      "- Root Mean Squared Error: 10.0490\n",
      "- Mean Absolute Error: 7.7030\n",
      "- R2 Score: 0.2963\n",
      "----------------------------------\n",
      "Model performance for Test set\n",
      "- Root Mean Squared Error: 9.8309\n",
      "- Mean Absolute Error: 7.2688\n",
      "- R2 Score: 0.3074\n",
      "===================================\n",
      "\n",
      "\n",
      "Lasso\n",
      "Model performance for Training set\n",
      "- Root Mean Squared Error: 10.5165\n",
      "- Mean Absolute Error: 8.3155\n",
      "- R2 Score: 0.2293\n",
      "----------------------------------\n",
      "Model performance for Test set\n",
      "- Root Mean Squared Error: 10.0512\n",
      "- Mean Absolute Error: 7.5954\n",
      "- R2 Score: 0.2760\n",
      "===================================\n",
      "\n",
      "\n",
      "Ridge\n",
      "Model performance for Training set\n",
      "- Root Mean Squared Error: 10.0495\n",
      "- Mean Absolute Error: 7.7100\n",
      "- R2 Score: 0.2963\n",
      "----------------------------------\n",
      "Model performance for Test set\n",
      "- Root Mean Squared Error: 9.8308\n",
      "- Mean Absolute Error: 7.2748\n",
      "- R2 Score: 0.3074\n",
      "===================================\n",
      "\n",
      "\n",
      "K-Neighbors Regressor\n",
      "Model performance for Training set\n",
      "- Root Mean Squared Error: 5.0121\n",
      "- Mean Absolute Error: 3.2065\n",
      "- R2 Score: 0.8250\n",
      "----------------------------------\n",
      "Model performance for Test set\n",
      "- Root Mean Squared Error: 7.9141\n",
      "- Mean Absolute Error: 4.8870\n",
      "- R2 Score: 0.5512\n",
      "===================================\n",
      "\n",
      "\n",
      "Decision Tree\n",
      "Model performance for Training set\n",
      "- Root Mean Squared Error: 0.5428\n",
      "- Mean Absolute Error: 0.1143\n",
      "- R2 Score: 0.9979\n",
      "----------------------------------\n",
      "Model performance for Test set\n",
      "- Root Mean Squared Error: 6.8101\n",
      "- Mean Absolute Error: 3.7835\n",
      "- R2 Score: 0.6676\n",
      "===================================\n",
      "\n",
      "\n",
      "Random Forest Regressor\n",
      "Model performance for Training set\n",
      "- Root Mean Squared Error: 1.6827\n",
      "- Mean Absolute Error: 1.0548\n",
      "- R2 Score: 0.9803\n",
      "----------------------------------\n",
      "Model performance for Test set\n",
      "- Root Mean Squared Error: 5.9948\n",
      "- Mean Absolute Error: 3.2485\n",
      "- R2 Score: 0.7425\n",
      "===================================\n",
      "\n",
      "\n",
      "XGBRegressor\n",
      "Model performance for Training set\n",
      "- Root Mean Squared Error: 0.6185\n",
      "- Mean Absolute Error: 0.3027\n",
      "- R2 Score: 0.9973\n",
      "----------------------------------\n",
      "Model performance for Test set\n",
      "- Root Mean Squared Error: 5.5461\n",
      "- Mean Absolute Error: 2.8208\n",
      "- R2 Score: 0.7796\n",
      "===================================\n",
      "\n",
      "\n",
      "CatBoosting Regressor\n",
      "Model performance for Training set\n",
      "- Root Mean Squared Error: 1.4285\n",
      "- Mean Absolute Error: 0.9909\n",
      "- R2 Score: 0.9858\n",
      "----------------------------------\n",
      "Model performance for Test set\n",
      "- Root Mean Squared Error: 5.4183\n",
      "- Mean Absolute Error: 2.9338\n",
      "- R2 Score: 0.7896\n",
      "===================================\n",
      "\n",
      "\n",
      "AdaBoost Regressor\n",
      "Model performance for Training set\n",
      "- Root Mean Squared Error: 6.6741\n",
      "- Mean Absolute Error: 5.6959\n",
      "- R2 Score: 0.6896\n",
      "----------------------------------\n",
      "Model performance for Test set\n",
      "- Root Mean Squared Error: 8.1737\n",
      "- Mean Absolute Error: 6.3741\n",
      "- R2 Score: 0.5212\n",
      "===================================\n",
      "\n",
      "\n"
     ]
    }
   ],
   "source": [
    "models = {\n",
    "    \"Linear Regression\": LinearRegression(),\n",
    "    \"Lasso\": Lasso(),\n",
    "    \"Ridge\": Ridge(),\n",
    "    \"K-Neighbors Regressor\": KNeighborsRegressor(),\n",
    "    \"Decision Tree\": DecisionTreeRegressor(),\n",
    "    \"Random Forest Regressor\": RandomForestRegressor(),\n",
    "    \"XGBRegressor\": XGBRegressor(), \n",
    "    \"CatBoosting Regressor\": CatBoostRegressor(verbose=False),\n",
    "    \"AdaBoost Regressor\": AdaBoostRegressor()\n",
    "}\n",
    "model_list = []\n",
    "r2_list =[]\n",
    "\n",
    "for i in range(len(list(models))):\n",
    "    model = list(models.values())[i]\n",
    "    model.fit(X_train, y_train) # Train model\n",
    "\n",
    "    # Make predictions\n",
    "    y_train_pred = model.predict(X_train)\n",
    "    y_test_pred = model.predict(X_test)\n",
    "    \n",
    "    # Evaluate Train and Test dataset\n",
    "    model_train_mae , model_train_rmse, model_train_r2 = evaluate_model(y_train, y_train_pred)\n",
    "\n",
    "    model_test_mae , model_test_rmse, model_test_r2 = evaluate_model(y_test, y_test_pred)\n",
    "\n",
    "    \n",
    "    print(list(models.keys())[i])\n",
    "    model_list.append(list(models.keys())[i])\n",
    "    \n",
    "    print('Model performance for Training set')\n",
    "    print(\"- Root Mean Squared Error: {:.4f}\".format(model_train_rmse))\n",
    "    print(\"- Mean Absolute Error: {:.4f}\".format(model_train_mae))\n",
    "    print(\"- R2 Score: {:.4f}\".format(model_train_r2))\n",
    "\n",
    "    print('----------------------------------')\n",
    "    \n",
    "    print('Model performance for Test set')\n",
    "    print(\"- Root Mean Squared Error: {:.4f}\".format(model_test_rmse))\n",
    "    print(\"- Mean Absolute Error: {:.4f}\".format(model_test_mae))\n",
    "    print(\"- R2 Score: {:.4f}\".format(model_test_r2))\n",
    "    r2_list.append(model_test_r2)\n",
    "    \n",
    "    print('='*35)\n",
    "    print('\\n')"
   ]
  },
  {
   "cell_type": "code",
   "execution_count": 53,
   "metadata": {},
   "outputs": [
    {
     "data": {
      "text/html": [
       "<div>\n",
       "<style scoped>\n",
       "    .dataframe tbody tr th:only-of-type {\n",
       "        vertical-align: middle;\n",
       "    }\n",
       "\n",
       "    .dataframe tbody tr th {\n",
       "        vertical-align: top;\n",
       "    }\n",
       "\n",
       "    .dataframe thead th {\n",
       "        text-align: right;\n",
       "    }\n",
       "</style>\n",
       "<table border=\"1\" class=\"dataframe\">\n",
       "  <thead>\n",
       "    <tr style=\"text-align: right;\">\n",
       "      <th></th>\n",
       "      <th>Model Name</th>\n",
       "      <th>R2_Score</th>\n",
       "    </tr>\n",
       "  </thead>\n",
       "  <tbody>\n",
       "    <tr>\n",
       "      <th>7</th>\n",
       "      <td>CatBoosting Regressor</td>\n",
       "      <td>0.789612</td>\n",
       "    </tr>\n",
       "    <tr>\n",
       "      <th>6</th>\n",
       "      <td>XGBRegressor</td>\n",
       "      <td>0.779570</td>\n",
       "    </tr>\n",
       "    <tr>\n",
       "      <th>5</th>\n",
       "      <td>Random Forest Regressor</td>\n",
       "      <td>0.742464</td>\n",
       "    </tr>\n",
       "    <tr>\n",
       "      <th>4</th>\n",
       "      <td>Decision Tree</td>\n",
       "      <td>0.667646</td>\n",
       "    </tr>\n",
       "    <tr>\n",
       "      <th>3</th>\n",
       "      <td>K-Neighbors Regressor</td>\n",
       "      <td>0.551158</td>\n",
       "    </tr>\n",
       "    <tr>\n",
       "      <th>8</th>\n",
       "      <td>AdaBoost Regressor</td>\n",
       "      <td>0.521231</td>\n",
       "    </tr>\n",
       "    <tr>\n",
       "      <th>2</th>\n",
       "      <td>Ridge</td>\n",
       "      <td>0.307423</td>\n",
       "    </tr>\n",
       "    <tr>\n",
       "      <th>0</th>\n",
       "      <td>Linear Regression</td>\n",
       "      <td>0.307406</td>\n",
       "    </tr>\n",
       "    <tr>\n",
       "      <th>1</th>\n",
       "      <td>Lasso</td>\n",
       "      <td>0.276012</td>\n",
       "    </tr>\n",
       "  </tbody>\n",
       "</table>\n",
       "</div>"
      ],
      "text/plain": [
       "                Model Name  R2_Score\n",
       "7    CatBoosting Regressor  0.789612\n",
       "6             XGBRegressor  0.779570\n",
       "5  Random Forest Regressor  0.742464\n",
       "4            Decision Tree  0.667646\n",
       "3    K-Neighbors Regressor  0.551158\n",
       "8       AdaBoost Regressor  0.521231\n",
       "2                    Ridge  0.307423\n",
       "0        Linear Regression  0.307406\n",
       "1                    Lasso  0.276012"
      ]
     },
     "execution_count": 53,
     "metadata": {},
     "output_type": "execute_result"
    }
   ],
   "source": [
    "pd.DataFrame(list(zip(model_list, r2_list)), columns=['Model Name', 'R2_Score']).sort_values(by=[\"R2_Score\"],ascending=False)\n"
   ]
  },
  {
   "cell_type": "code",
   "execution_count": 54,
   "metadata": {},
   "outputs": [],
   "source": [
    "# Assuming you have already trained your CatBoost Regressor\n",
    "catboost_model = models[\"CatBoosting Regressor\"]  # Fetch the trained CatBoost model\n",
    "y_pred = catboost_model.predict(X_test)  # Predict test set\n"
   ]
  },
  {
   "cell_type": "code",
   "execution_count": 56,
   "metadata": {},
   "outputs": [
    {
     "data": {
      "image/png": "[encoded data removed]",
      "text/plain": [
       "<Figure size 800x600 with 1 Axes>"
      ]
     },
     "metadata": {},
     "output_type": "display_data"
    }
   ],
   "source": [
    "plt.figure(figsize=(8, 6))\n",
    "sns.scatterplot(x=y_test, y=y_pred, alpha=0.7)\n",
    "sns.lineplot(x=y_test, y=y_test, color=\"red\", linestyle=\"--\", label=\"Perfect Fit\")\n",
    "\n",
    "plt.xlabel(\"Actual Bio-Fuel Yield\")\n",
    "plt.ylabel(\"Predicted Bio-Fuel Yield\")\n",
    "plt.title(\"CatBoost Regressor: Actual vs Predicted\")\n",
    "plt.legend()\n",
    "plt.show()\n"
   ]
  },
  {
   "cell_type": "code",
   "execution_count": 57,
   "metadata": {},
   "outputs": [
    {
     "name": "stdout",
     "output_type": "stream",
     "text": [
      "Mean Absolute Error (MAE): 2.9338\n",
      "Root Mean Squared Error (RMSE): 5.4183\n",
      "R2 Score: 0.7896\n"
     ]
    }
   ],
   "source": [
    "# Assuming CatBoost is already trained\n",
    "catboost_model = models[\"CatBoosting Regressor\"]\n",
    "y_pred = catboost_model.predict(X_test)\n",
    "\n",
    "# Calculate Errors\n",
    "mse = mean_squared_error(y_test, y_pred)\n",
    "rmse = np.sqrt(mse)\n",
    "mae = mean_absolute_error(y_test, y_pred)\n",
    "r2 = r2_score(y_test, y_pred)\n",
    "\n",
    "print(f\"Mean Absolute Error (MAE): {mae:.4f}\")\n",
    "print(f\"Root Mean Squared Error (RMSE): {rmse:.4f}\")\n",
    "print(f\"R2 Score: {r2:.4f}\")\n"
   ]
  },
  {
   "cell_type": "code",
   "execution_count": 58,
   "metadata": {},
   "outputs": [
    {
     "data": {
      "image/png": "[encoded data removed]",
      "text/plain": [
       "<Figure size 800x600 with 1 Axes>"
      ]
     },
     "metadata": {},
     "output_type": "display_data"
    }
   ],
   "source": [
    "plt.figure(figsize=(8, 6))\n",
    "plt.plot(catboost_model.get_evals_result()['learn']['RMSE'], label=\"Training Loss\")\n",
    "plt.xlabel(\"Iterations\")\n",
    "plt.ylabel(\"RMSE Loss\")\n",
    "plt.title(\"CatBoost Training Loss Curve\")\n",
    "plt.legend()\n",
    "plt.show()\n"
   ]
  },
  {
   "cell_type": "code",
   "execution_count": 59,
   "metadata": {},
   "outputs": [
    {
     "data": {
      "image/png": "[encoded data removed]",
      "text/plain": [
       "<Figure size 800x600 with 1 Axes>"
      ]
     },
     "metadata": {},
     "output_type": "display_data"
    }
   ],
   "source": [
    "residuals = y_test - y_pred\n",
    "\n",
    "plt.figure(figsize=(8, 6))\n",
    "sns.histplot(residuals, bins=30, kde=True)\n",
    "plt.xlabel(\"Residuals (Actual - Predicted)\")\n",
    "plt.ylabel(\"Frequency\")\n",
    "plt.title(\"Residual Distribution\")\n",
    "plt.axvline(x=0, color='red', linestyle='--', label=\"Zero Error Line\")\n",
    "plt.legend()\n",
    "plt.show()\n"
   ]
  },
  {
   "cell_type": "code",
   "execution_count": 62,
   "metadata": {},
   "outputs": [
    {
     "name": "stderr",
     "output_type": "stream",
     "text": [
      "C:\\Users\\VINESH\\AppData\\Local\\Temp\\ipykernel_8196\\3085262219.py:14: FutureWarning: \n",
      "\n",
      "Passing `palette` without assigning `hue` is deprecated and will be removed in v0.14.0. Assign the `y` variable to `hue` and set `legend=False` for the same effect.\n",
      "\n",
      "  sns.barplot(x=importance, y=feature_names, palette=\"viridis\")\n"
     ]
    },
    {
     "data": {
      "image/png": "[encoded data removed]",
      "text/plain": [
       "<Figure size 1000x600 with 1 Axes>"
      ]
     },
     "metadata": {},
     "output_type": "display_data"
    }
   ],
   "source": [
    "# Get transformed feature names\n",
    "feature_names = preprocessor.get_feature_names_out()\n",
    "\n",
    "import matplotlib.pyplot as plt\n",
    "import seaborn as sns\n",
    "\n",
    "# Ensure feature names are a list\n",
    "feature_names = list(feature_names)  \n",
    "\n",
    "# Plot feature importance\n",
    "plt.figure(figsize=(10, 6))\n",
    "importance = catboost_model.get_feature_importance()\n",
    "\n",
    "sns.barplot(x=importance, y=feature_names, palette=\"viridis\")\n",
    "plt.xlabel(\"Feature Importance Score\")\n",
    "plt.ylabel(\"Feature Names\")\n",
    "plt.title(\"CatBoost Feature Importance\")\n",
    "plt.show()\n",
    "\n"
   ]
  },
  {
   "cell_type": "code",
   "execution_count": null,
   "metadata": {},
   "outputs": [],
   "source": []
  },
  {
   "cell_type": "code",
   "execution_count": null,
   "metadata": {},
   "outputs": [],
   "source": []
  },
  {
   "cell_type": "code",
   "execution_count": null,
   "metadata": {},
   "outputs": [],
   "source": []
  },
  {
   "cell_type": "code",
   "execution_count": null,
   "metadata": {},
   "outputs": [],
   "source": []
  },
  {
   "cell_type": "code",
   "execution_count": null,
   "metadata": {},
   "outputs": [],
   "source": []
  },
  {
   "cell_type": "code",
   "execution_count": null,
   "metadata": {},
   "outputs": [],
   "source": []
  },
  {
   "cell_type": "code",
   "execution_count": null,
   "metadata": {},
   "outputs": [],
   "source": []
  }
 ],
 "metadata": {
  "kernelspec": {
   "display_name": "rasaenv",
   "language": "python",
   "name": "python3"
  },
  "language_info": {
   "codemirror_mode": {
    "name": "ipython",
    "version": 3
   },
   "file_extension": ".py",
   "mimetype": "text/x-python",
   "name": "python",
   "nbconvert_exporter": "python",
   "pygments_lexer": "ipython3",
   "version": "3.8.20"
  }
 },
 "nbformat": 4,
 "nbformat_minor": 2
}
